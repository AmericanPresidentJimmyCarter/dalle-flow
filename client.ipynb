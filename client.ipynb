{
 "cells": [
  {
   "cell_type": "markdown",
   "source": [
    "<p align=\"center\">\n",
    "<img src=\"https://github.com/jina-ai/dalle-flow/blob/main/.github/banner.svg?raw=true\" alt=\"DALL·E Flow: A Human-in-the-Loop workflow for creating HD images from text\" width=\"60%\">\n",
    "<br>\n",
    "</p>\n",
    "\n",
    "\n",
    "<b>A Human-in-the-Loop<sup><a href=\"https://en.wikipedia.org/wiki/Human-in-the-loop\">?</a></sup> workflow for creating HD images from text</b>\n",
    "\n",
    "\n",
    "<p align=center>\n",
    "<a href=\"https://slack.jina.ai\"><img src=\"https://img.shields.io/badge/Slack-2.8k-blueviolet?logo=slack&amp;logoColor=white&style=flat-square\" alt=\"Open in Google Colab\"></a>\n",
    "</p>"
   ],
   "metadata": {
    "collapsed": false,
    "pycharm": {
     "name": "#%% md\n"
    }
   }
  },
  {
   "cell_type": "markdown",
   "source": [
    "[![GitHub Repo stars](https://img.shields.io/github/stars/jina-ai/dalle-flow?style=social)](https://github.com/jina-ai/dalle-flow)"
   ],
   "metadata": {
    "collapsed": false,
    "pycharm": {
     "name": "#%% md\n"
    }
   }
  },
  {
   "cell_type": "markdown",
   "source": [
    "\n",
    "\n",
    "🚧 If you find your request fails, it is possible the server is occasionally down for maintaince. Please give it a try in 5 minutes.\n",
    "\n",
    "\n",
    "- ⚠️ 2022/5/3 **The number of images is restrict to 9 for DALL·E Mega, and 16 for GLID3-XL**\n",
    "- ⚠️ 2022/5/2 **Due to the massive requests now, the server is super busy.** You can deploy your own server by following [the instruction here](https://github.com/jina-ai/dalle-flow#server).\n"
   ],
   "metadata": {
    "collapsed": false,
    "pycharm": {
     "name": "#%% md\n"
    }
   }
  },
  {
   "cell_type": "markdown",
   "source": [
    "Using client is super easy. The following steps are best run in Jupyter notebook or [Google Colab](https://colab.research.google.com/github/jina-ai/dalle-flow/blob/main/client.ipynb).  \n",
    "\n",
    "The only dependency you will need is [DocArray](https://github.com/jina-ai/docarray)."
   ],
   "metadata": {
    "collapsed": false,
    "pycharm": {
     "name": "#%% md\n"
    }
   }
  },
  {
   "cell_type": "code",
   "execution_count": null,
   "outputs": [],
   "source": [
    "!pip install \"docarray[common]>=0.13.5\" jina"
   ],
   "metadata": {
    "collapsed": false,
    "pycharm": {
     "name": "#%%\n"
    }
   }
  },
  {
   "cell_type": "code",
   "execution_count": null,
   "outputs": [],
   "source": [
    "We have provided a demo server for you to play:"
   ],
   "metadata": {
    "collapsed": false,
    "pycharm": {
     "name": "#%%\n"
    }
   }
  },
  {
   "cell_type": "code",
   "execution_count": null,
   "outputs": [],
   "source": [
    "server_url = 'grpc://dalle-flow.jina.ai:51005'"
   ],
   "metadata": {
    "collapsed": false,
    "pycharm": {
     "name": "#%%\n"
    }
   }
  },
  {
   "cell_type": "markdown",
   "source": [
    "### Step 1: Generate via DALL·E Mega\n",
    "\n",
    "Now let's define the prompt:"
   ],
   "metadata": {
    "collapsed": false,
    "pycharm": {
     "name": "#%% md\n"
    }
   }
  },
  {
   "cell_type": "code",
   "execution_count": null,
   "outputs": [],
   "source": [
    "prompt = 'an oil painting of a humanoid robot playing chess in the style of Matisse'"
   ],
   "metadata": {
    "collapsed": false,
    "pycharm": {
     "name": "#%%\n"
    }
   }
  },
  {
   "cell_type": "markdown",
   "source": [
    "Let's submit it to the server and visualize the results:"
   ],
   "metadata": {
    "collapsed": false,
    "pycharm": {
     "name": "#%% md\n"
    }
   }
  },
  {
   "cell_type": "code",
   "execution_count": null,
   "outputs": [],
   "source": [
    "%%time\n",
    "\n",
    "from docarray import Document\n",
    "\n",
    "da = Document(text=prompt).post(server_url, parameters={'num_images': 9}).matches\n",
    "da.plot_image_sprites(fig_size=(10,10), show_index=True)"
   ],
   "metadata": {
    "collapsed": false,
    "pycharm": {
     "name": "#%%\n"
    }
   }
  },
  {
   "cell_type": "markdown",
   "source": [
    "Here we generate ~~16~~ (2022/5/3: **limit to max. 9** for online demo due to massive traffic) candidates as defined in `num_images`, which takes about ~1 minutes. You can use a smaller value if it is too long for you. The results are sorted by [CLIP-as-service](https://github.com/jina-ai/clip-as-service), with index-`0` as the best candidate judged by CLIP. "
   ],
   "metadata": {
    "collapsed": false,
    "pycharm": {
     "name": "#%% md\n"
    }
   }
  },
  {
   "cell_type": "markdown",
   "source": [
    "### Step 2: Select and refinement via GLID3 XL\n",
    "\n",
    "Of course, you may think differently. Notice the number in the top-left corner? Select the one you like the most and get a better view:"
   ],
   "metadata": {
    "collapsed": false,
    "pycharm": {
     "name": "#%% md\n"
    }
   }
  },
  {
   "cell_type": "code",
   "execution_count": null,
   "outputs": [],
   "source": [
    "fav_id = 3\n",
    "\n",
    "fav = da[fav_id]\n",
    "\n",
    "fav.display()"
   ],
   "metadata": {
    "collapsed": false,
    "pycharm": {
     "name": "#%%\n"
    }
   }
  },
  {
   "cell_type": "markdown",
   "source": [
    "Now let's submit the selected candidates to the server for diffusion."
   ],
   "metadata": {
    "collapsed": false,
    "pycharm": {
     "name": "#%% md\n"
    }
   }
  },
  {
   "cell_type": "code",
   "execution_count": null,
   "outputs": [],
   "source": [
    "%%time\n",
    "\n",
    "diffused = fav.post(f'{server_url}/diffuse', parameters={'skip_rate': 0.5}).matches\n",
    "\n",
    "diffused.plot_image_sprites(fig_size=(10,10), show_index=True)"
   ],
   "metadata": {
    "collapsed": false,
    "pycharm": {
     "name": "#%%\n"
    }
   }
  },
  {
   "cell_type": "markdown",
   "source": [
    "This will give ~~36~~ (2022/5/3: **limit to max. 16** for online demo due to massive traffic) images based on the given image. You may allow the model to improvise more by giving `skip_rate` a near-zero value, or a near-one value to force its closeness to the given image. The whole procedure takes about ~1 minutes.\n"
   ],
   "metadata": {
    "collapsed": false,
    "pycharm": {
     "name": "#%% md\n"
    }
   }
  },
  {
   "cell_type": "markdown",
   "id": "e421f371",
   "metadata": {},
   "source": [
    "### Step 3: Select and upscale via SwanIR\n",
    "\n",
    "Select the image you like the most, and give it a closer look:\n"
   ]
  },
  {
   "cell_type": "code",
   "execution_count": null,
   "id": "f83734fa",
   "metadata": {
    "pycharm": {
     "name": "#%%\n"
    }
   },
   "outputs": [],
   "source": [
    "dfav_id = 34\n",
    "\n",
    "fav = diffused[dfav_id]\n",
    "\n",
    "fav.display()"
   ]
  },
  {
   "cell_type": "markdown",
   "id": "9c807dcb",
   "metadata": {},
   "source": [
    "Finally, submit to the server for the last step: upscaling to 1024 x 1024px."
   ]
  },
  {
   "cell_type": "code",
   "execution_count": null,
   "id": "102fbcda",
   "metadata": {
    "pycharm": {
     "name": "#%%\n"
    }
   },
   "outputs": [],
   "source": [
    "%%time\n",
    "\n",
    "fav = fav.post(f'{server_url}/upscale')\n",
    "fav.display()"
   ]
  },
  {
   "cell_type": "markdown",
   "id": "ed93a102",
   "metadata": {
    "pycharm": {
     "name": "#%%\n"
    }
   },
   "source": [
    "That's it! It is _the one_. If not satisfied, please repeat the procedure. Btw, DocArray is a powerful and easy-to-use data structure for unstructured data. It is super productive for data scientists who work in cross-/multi-modal domain. To learn more about DocArray, [please check out the docs](https://docs.jina.ai)."
   ]
  }
 ],
 "metadata": {
  "kernelspec": {
   "display_name": "Python 3 (ipykernel)",
   "language": "python",
   "name": "python3"
  },
  "language_info": {
   "codemirror_mode": {
    "name": "ipython",
    "version": 3
   },
   "file_extension": ".py",
   "mimetype": "text/x-python",
   "name": "python",
   "nbconvert_exporter": "python",
   "pygments_lexer": "ipython3",
   "version": "3.7.9"
  }
 },
 "nbformat": 4,
 "nbformat_minor": 5
}